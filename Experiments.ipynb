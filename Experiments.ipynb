{
 "cells": [
  {
   "cell_type": "code",
   "execution_count": 1,
   "metadata": {},
   "outputs": [],
   "source": [
    "import torch\n",
    "import datetime\n",
    "import torch.nn.functional as F\n",
    "from torch.autograd import Variable\n",
    "from torchvision.models import resnet, alexnet, inception_v3\n",
    "from torchvision.datasets import coco\n",
    "from torchvision import transforms"
   ]
  },
  {
   "cell_type": "code",
   "execution_count": 2,
   "metadata": {},
   "outputs": [],
   "source": [
    "def compute_mem_size(t):\n",
    "    t_size = t.size()\n",
    "    n_nums = 1\n",
    "    for n in t_size:\n",
    "        n_nums *= n\n",
    "    bit_size_map = {torch.float32 : 32, torch.float16 : 16, torch.float64 : 64, torch.uint8 : 8, torch.int8 : 8, torch.int16 : 16, torch.int32 : 32, torch.int64 : 64}\n",
    "    return (n_nums * bit_size_map[t.dtype]) / 8"
   ]
  },
  {
   "cell_type": "code",
   "execution_count": 3,
   "metadata": {},
   "outputs": [],
   "source": [
    "BASE = '/Users/ankitmathur/'\n",
    "ANN_PATH = 'datasets/coco/cocoapi/annotations/instances_val2017.json'\n",
    "VAL_PATH = 'datasets/coco/cocoapi/images/val2017/'"
   ]
  },
  {
   "cell_type": "code",
   "execution_count": 4,
   "metadata": {},
   "outputs": [],
   "source": [
    "def merge_coco(l):\n",
    "    return torch.stack([x[0] for x in l])"
   ]
  },
  {
   "cell_type": "markdown",
   "metadata": {},
   "source": [
    "## ResNet"
   ]
  },
  {
   "cell_type": "code",
   "execution_count": null,
   "metadata": {},
   "outputs": [],
   "source": [
    "resnet_transform = transforms.Compose([\n",
    "    transforms.Resize((256, 256)),\n",
    "    transforms.CenterCrop(224),\n",
    "    transforms.ToTensor(),\n",
    "#     transforms.Normalize(mean=[0.485, 0.456, 0.406],\n",
    "#                                      std=[0.229, 0.224, 0.225])\n",
    "])\n",
    "resnet_dataset = coco.CocoDetection(root=BASE+VAL_PATH, annFile=BASE+ANN_PATH, transform=resnet_transform)\n",
    "resnet_eval_loader = torch.utils.data.DataLoader(resnet_dataset, batch_size=1, shuffle=True, collate_fn=merge_coco)"
   ]
  },
  {
   "cell_type": "code",
   "execution_count": null,
   "metadata": {},
   "outputs": [],
   "source": [
    "resnet_model = resnet.resnet18(pretrained=True)"
   ]
  },
  {
   "cell_type": "code",
   "execution_count": null,
   "metadata": {},
   "outputs": [],
   "source": [
    "def resnet_measure_forward(model, x):\n",
    "    print('Image size:', compute_mem_size(x))\n",
    "    t0 = datetime.datetime.now()\n",
    "    x = model.conv1(x)\n",
    "    x = model.bn1(x)\n",
    "    x = model.relu(x)\n",
    "    t1 = datetime.datetime.now()\n",
    "    dt1 = t1 - t0\n",
    "    print('After conv1 (' + str(dt1.total_seconds()) + '):', compute_mem_size(x))\n",
    "    t2 = datetime.datetime.now()\n",
    "    x = model.maxpool(x)\n",
    "    t3 = datetime.datetime.now()\n",
    "    dt2 = t3 - t2\n",
    "    print('After maxpool (' + str(dt2.total_seconds()) + '):', compute_mem_size(x))\n",
    "    t4 = datetime.datetime.now()\n",
    "    x = model.layer1(x)\n",
    "    t5 = datetime.datetime.now()\n",
    "    dt3 = t5 - t4\n",
    "    print('After l1 (' + str(dt3.total_seconds()) + '):', compute_mem_size(x))\n",
    "    t6 = datetime.datetime.now()\n",
    "    x = model.layer2(x)\n",
    "    t7 = datetime.datetime.now()\n",
    "    dt4 = t7 - t6\n",
    "    print('After l2 (' + str(dt4.total_seconds()) + '):', compute_mem_size(x))\n",
    "    t8 = datetime.datetime.now()\n",
    "    x = model.layer3(x)\n",
    "    t9 = datetime.datetime.now()\n",
    "    dt5 = t9 - t8\n",
    "    print('After l3 (' + str(dt5.total_seconds()) + '):', compute_mem_size(x))\n",
    "    t10 = datetime.datetime.now()\n",
    "    x = model.layer4(x)\n",
    "    t11 = datetime.datetime.now()\n",
    "    dt6 = t11 - t10\n",
    "    print('After l4 (' + str(dt6.total_seconds()) + '):', compute_mem_size(x))\n",
    "    t12 = datetime.datetime.now()\n",
    "    x = model.avgpool(x)\n",
    "    t13 = datetime.datetime.now()\n",
    "    dt7 = t13 - t12\n",
    "    print('After avgpool (' + str(dt7.total_seconds()) + '):', compute_mem_size(x))\n",
    "    x = x.view(x.size(0), -1)\n",
    "    t14 = datetime.datetime.now()\n",
    "    x = model.fc(x)\n",
    "    t15 = datetime.datetime.now()\n",
    "    dt8 = t15 - t14\n",
    "    print('After fc (' + str(dt8.total_seconds()) + '):', compute_mem_size(x))\n",
    "    return x"
   ]
  },
  {
   "cell_type": "code",
   "execution_count": null,
   "metadata": {},
   "outputs": [],
   "source": [
    "resnet_model.eval()\n",
    "for batch in resnet_eval_loader:\n",
    "    resnet_measure_forward(resnet_model, batch)\n",
    "    break"
   ]
  },
  {
   "cell_type": "markdown",
   "metadata": {},
   "source": [
    "## AlexNet"
   ]
  },
  {
   "cell_type": "code",
   "execution_count": null,
   "metadata": {},
   "outputs": [],
   "source": [
    "alexnet_transform = transforms.Compose([\n",
    "    transforms.Resize((256, 256)),\n",
    "    transforms.CenterCrop(227),\n",
    "    transforms.ToTensor(),\n",
    "#     transforms.Normalize(mean=[0.485, 0.456, 0.406],\n",
    "#                                      std=[0.229, 0.224, 0.225])\n",
    "])\n",
    "alexnet_dataset = coco.CocoDetection(root=BASE+VAL_PATH, annFile=BASE+ANN_PATH, transform=resnet_transform)\n",
    "alexnet_eval_loader = torch.utils.data.DataLoader(alexnet_dataset, batch_size=1, shuffle=True, collate_fn=merge_coco)"
   ]
  },
  {
   "cell_type": "code",
   "execution_count": null,
   "metadata": {},
   "outputs": [],
   "source": [
    "alexnet_model = alexnet(pretrained=True)"
   ]
  },
  {
   "cell_type": "code",
   "execution_count": null,
   "metadata": {},
   "outputs": [],
   "source": [
    "def alexnet_measure_forward(model, x):\n",
    "    print('Image size: ', compute_mem_size(x))\n",
    "    for module in model.features:\n",
    "        t1 = datetime.datetime.now()\n",
    "        x = module(x)\n",
    "        t2 = datetime.datetime.now()\n",
    "        dt1 = t2 - t1\n",
    "        canon_name = type(module).__name__\n",
    "        print('After ' + canon_name + '(' + str(dt1.total_seconds()) + '):  ' + str(compute_mem_size(x)))\n",
    "    # resize step.\n",
    "    x = x.view(x.size(0), 256 * 6 * 6)\n",
    "    # classification step\n",
    "    for module in model.classifier:\n",
    "        t1 = datetime.datetime.now()\n",
    "        x = module(x)\n",
    "        t2 = datetime.datetime.now()\n",
    "        dt1 = t2 - t1\n",
    "        canon_name = type(module).__name__\n",
    "        print('After ' + canon_name + '(' + str(dt1.total_seconds()) + '):  ' + str(compute_mem_size(x)))"
   ]
  },
  {
   "cell_type": "code",
   "execution_count": null,
   "metadata": {},
   "outputs": [],
   "source": [
    "alexnet_model.eval()\n",
    "for batch in alexnet_eval_loader:\n",
    "    alexnet_measure_forward(alexnet_model, batch)\n",
    "    break"
   ]
  },
  {
   "cell_type": "markdown",
   "metadata": {},
   "source": [
    "## Inception V3"
   ]
  },
  {
   "cell_type": "code",
   "execution_count": 6,
   "metadata": {},
   "outputs": [
    {
     "name": "stdout",
     "output_type": "stream",
     "text": [
      "loading annotations into memory...\n",
      "Done (t=0.65s)\n",
      "creating index...\n",
      "index created!\n"
     ]
    }
   ],
   "source": [
    "inception_transform = transforms.Compose([\n",
    "    transforms.Resize((299, 299)),\n",
    "    transforms.ToTensor(),\n",
    "#     transforms.Normalize(mean=[0.485, 0.456, 0.406],\n",
    "#                                      std=[0.229, 0.224, 0.225])\n",
    "])\n",
    "inception_dataset = coco.CocoDetection(root=BASE+VAL_PATH, annFile=BASE+ANN_PATH, transform=inception_transform)\n",
    "inception_eval_loader = torch.utils.data.DataLoader(inception_dataset, batch_size=1, shuffle=True, collate_fn=merge_coco)"
   ]
  },
  {
   "cell_type": "code",
   "execution_count": 7,
   "metadata": {},
   "outputs": [],
   "source": [
    "inception_model = inception_v3(pretrained=True)"
   ]
  },
  {
   "cell_type": "code",
   "execution_count": 10,
   "metadata": {},
   "outputs": [],
   "source": [
    "# incomplete\n",
    "def inception_measure_forward(model, x):\n",
    "    print('Image size: ', compute_mem_size(x))\n",
    "    # 299 x 299 x 3\n",
    "    t1 = datetime.datetime.now()\n",
    "    x = model.Conv2d_1a_3x3(x)\n",
    "    t2 = datetime.datetime.now()\n",
    "    dt1 = t2 - t1\n",
    "    print('After Conv2d1a (' + str(dt1.total_seconds()) + '):', compute_mem_size(x))\n",
    "    # 149 x 149 x 32\n",
    "    t1 = datetime.datetime.now()\n",
    "    x = model.Conv2d_2a_3x3(x)\n",
    "    t2 = datetime.datetime.now()\n",
    "    dt1 = t2 - t1\n",
    "    print('After Conv2d2a (' + str(dt1.total_seconds()) + '):', compute_mem_size(x))\n",
    "    # 147 x 147 x 32\n",
    "    t1 = datetime.datetime.now()\n",
    "    x = model.Conv2d_2b_3x3(x)\n",
    "    t2 = datetime.datetime.now()\n",
    "    dt1 = t2 - t1\n",
    "    print('After Conv2d2b (' + str(dt1.total_seconds()) + '):', compute_mem_size(x))\n",
    "    # 147 x 147 x 64\n",
    "    t1 = datetime.datetime.now()\n",
    "    x = F.max_pool2d(x, kernel_size=3, stride=2)\n",
    "    t2 = datetime.datetime.now()\n",
    "    dt1 = t2 - t1\n",
    "    print('After MaxPool2d (' + str(dt1.total_seconds()) + '):', compute_mem_size(x))\n",
    "    # 73 x 73 x 64\n",
    "    t1 = datetime.datetime.now()\n",
    "    x = model.Conv2d_3b_1x1(x)\n",
    "    t2 = datetime.datetime.now()\n",
    "    dt1 = t2 - t1\n",
    "    print('After Conv2d3B (' + str(dt1.total_seconds()) + '):', compute_mem_size(x))\n",
    "    # 73 x 73 x 80\n",
    "    t1 = datetime.datetime.now()\n",
    "    x = model.Conv2d_4a_3x3(x)\n",
    "    t2 = datetime.datetime.now()\n",
    "    dt1 = t2 - t1\n",
    "    print('After Conv2d4A (' + str(dt1.total_seconds()) + '):', compute_mem_size(x))\n",
    "    # 71 x 71 x 192\n",
    "    t1 = datetime.datetime.now()\n",
    "    x = F.max_pool2d(x, kernel_size=3, stride=2)\n",
    "    t2 = datetime.datetime.now()\n",
    "    dt1 = t2 - t1\n",
    "    print('After MaxPool2D (' + str(dt1.total_seconds()) + '):', compute_mem_size(x))\n",
    "    # 35 x 35 x 192\n",
    "    t1 = datetime.datetime.now()\n",
    "    x = model.Mixed_5b(x)\n",
    "    t2 = datetime.datetime.now()\n",
    "    dt1 = t2 - t1\n",
    "    print('After Mixed5B (' + str(dt1.total_seconds()) + '):', compute_mem_size(x))\n",
    "    # 35 x 35 x 256\n",
    "    t1 = datetime.datetime.now()\n",
    "    x = model.Mixed_5c(x)\n",
    "    t2 = datetime.datetime.now()\n",
    "    dt1 = t2 - t1\n",
    "    print('After Mixed5C (' + str(dt1.total_seconds()) + '):', compute_mem_size(x))\n",
    "    # 35 x 35 x 288\n",
    "    t1 = datetime.datetime.now()\n",
    "    x = model.Mixed_5d(x)\n",
    "    t2 = datetime.datetime.now()\n",
    "    dt1 = t2 - t1\n",
    "    print('After Mixed5D (' + str(dt1.total_seconds()) + '):', compute_mem_size(x))\n",
    "    # 35 x 35 x 288\n",
    "    t1 = datetime.datetime.now()\n",
    "    x = model.Mixed_6a(x)\n",
    "    t2 = datetime.datetime.now()\n",
    "    dt1 = t2 - t1\n",
    "    print('After Mixed6A (' + str(dt1.total_seconds()) + '):', compute_mem_size(x))\n",
    "    # 17 x 17 x 768\n",
    "    t1 = datetime.datetime.now()\n",
    "    x = model.Mixed_6b(x)\n",
    "    t2 = datetime.datetime.now()\n",
    "    dt1 = t2 - t1\n",
    "    print('After Mixed6B (' + str(dt1.total_seconds()) + '):', compute_mem_size(x))\n",
    "    # 17 x 17 x 768\n",
    "    t1 = datetime.datetime.now()\n",
    "    x = model.Mixed_6c(x)\n",
    "    t2 = datetime.datetime.now()\n",
    "    dt1 = t2 - t1\n",
    "    print('After Mixed6C (' + str(dt1.total_seconds()) + '):', compute_mem_size(x))\n",
    "    # 17 x 17 x 768\n",
    "    t1 = datetime.datetime.now()\n",
    "    x = model.Mixed_6d(x)\n",
    "    t2 = datetime.datetime.now()\n",
    "    dt1 = t2 - t1\n",
    "    print('After Mixed6D (' + str(dt1.total_seconds()) + '):', compute_mem_size(x))\n",
    "    # 17 x 17 x 768\n",
    "    t1 = datetime.datetime.now()\n",
    "    x = model.Mixed_6e(x)\n",
    "    t2 = datetime.datetime.now()\n",
    "    dt1 = t2 - t1\n",
    "    print('After Mixed6E (' + str(dt1.total_seconds()) + '):', compute_mem_size(x))\n",
    "    # 17 x 17 x 768\n",
    "    t1 = datetime.datetime.now()\n",
    "    x = model.Mixed_7a(x)\n",
    "    t2 = datetime.datetime.now()\n",
    "    dt1 = t2 - t1\n",
    "    print('After Mixed7A (' + str(dt1.total_seconds()) + '):', compute_mem_size(x))\n",
    "    # 8 x 8 x 1280\n",
    "    t1 = datetime.datetime.now()\n",
    "    x = model.Mixed_7b(x)\n",
    "    t2 = datetime.datetime.now()\n",
    "    dt1 = t2 - t1\n",
    "    print('After Mixed7B (' + str(dt1.total_seconds()) + '):', compute_mem_size(x))\n",
    "    # 8 x 8 x 2048\n",
    "    t1 = datetime.datetime.now()\n",
    "    x = model.Mixed_7c(x)\n",
    "    t2 = datetime.datetime.now()\n",
    "    dt1 = t2 - t1\n",
    "    print('After Mixed7C (' + str(dt1.total_seconds()) + '):', compute_mem_size(x))\n",
    "    # 8 x 8 x 2048\n",
    "    t1 = datetime.datetime.now()\n",
    "    x = F.avg_pool2d(x, kernel_size=8)\n",
    "    t2 = datetime.datetime.now()\n",
    "    dt1 = t2 - t1\n",
    "    print('After AvgPool2d (' + str(dt1.total_seconds()) + '):', compute_mem_size(x))\n",
    "    # 1 x 1 x 2048\n",
    "    x = F.dropout(x, training=model.training)\n",
    "    # 1 x 1 x 2048\n",
    "    x = x.view(x.size(0), -1)\n",
    "    # 2048\n",
    "    t1 = datetime.datetime.now()\n",
    "    x = model.fc(x)\n",
    "    t2 = datetime.datetime.now()\n",
    "    dt1 = t2 - t1\n",
    "    print('After FC (' + str(dt1.total_seconds()) + '):', compute_mem_size(x))\n",
    "    # 1000 (num_classes)\n",
    "    return x"
   ]
  },
  {
   "cell_type": "code",
   "execution_count": 11,
   "metadata": {},
   "outputs": [
    {
     "name": "stdout",
     "output_type": "stream",
     "text": [
      "Image size:  1072812.0\n",
      "After Conv2d1a (0.034189): 2841728.0\n",
      "After Conv2d2a (0.024898): 2765952.0\n",
      "After Conv2d2b (0.032337): 5531904.0\n",
      "After MaxPool2d (0.018495): 1364224.0\n",
      "After Conv2d3B (0.010574): 1705280.0\n",
      "After Conv2d4A (0.024739): 3871488.0\n",
      "After MaxPool2D (0.009854): 940800.0\n",
      "After Mixed5B (0.026174): 1254400.0\n",
      "After Mixed5C (0.035077): 1411200.0\n",
      "After Mixed5D (0.047889): 1411200.0\n",
      "After Mixed6A (0.026884): 887808.0\n",
      "After Mixed6B (0.035302): 887808.0\n",
      "After Mixed6C (0.038276): 887808.0\n",
      "After Mixed6D (0.039578): 887808.0\n",
      "After Mixed6E (0.044512): 887808.0\n",
      "After Mixed7A (0.017383): 327680.0\n",
      "After Mixed7B (0.023297): 524288.0\n",
      "After Mixed7C (0.029244): 524288.0\n",
      "After AvgPool2d (0.000436): 8192.0\n",
      "After FC (0.007548): 4000.0\n"
     ]
    }
   ],
   "source": [
    "inception_model.eval()\n",
    "for batch in inception_eval_loader:\n",
    "    inception_measure_forward(inception_model, batch)\n",
    "    break"
   ]
  }
 ],
 "metadata": {
  "kernelspec": {
   "display_name": "Python [conda env:torch]",
   "language": "python",
   "name": "conda-env-torch-py"
  },
  "language_info": {
   "codemirror_mode": {
    "name": "ipython",
    "version": 3
   },
   "file_extension": ".py",
   "mimetype": "text/x-python",
   "name": "python",
   "nbconvert_exporter": "python",
   "pygments_lexer": "ipython3",
   "version": "3.5.6"
  }
 },
 "nbformat": 4,
 "nbformat_minor": 2
}
