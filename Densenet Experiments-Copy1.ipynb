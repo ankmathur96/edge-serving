{
 "cells": [
  {
   "cell_type": "code",
   "execution_count": 12,
   "metadata": {},
   "outputs": [],
   "source": [
    "import torch\n",
    "import datetime\n",
    "from torch.autograd import Variable\n",
    "import torch.nn.functional as F\n",
    "from torchvision.models import densenet\n",
    "from torchvision.datasets import coco\n",
    "from torchvision import transforms"
   ]
  },
  {
   "cell_type": "code",
   "execution_count": 17,
   "metadata": {},
   "outputs": [
    {
     "name": "stderr",
     "output_type": "stream",
     "text": [
      "/Users/peterspradling/anaconda3/envs/torch/lib/python3.5/site-packages/torchvision-0.2.1-py3.5.egg/torchvision/models/densenet.py:212: UserWarning: nn.init.kaiming_normal is now deprecated in favor of nn.init.kaiming_normal_.\n"
     ]
    }
   ],
   "source": [
    "BASE = '/Users/peterspradling/CS349D/'\n",
    "m = densenet.densenet121(pretrained=True)"
   ]
  },
  {
   "cell_type": "code",
   "execution_count": 18,
   "metadata": {},
   "outputs": [
    {
     "name": "stdout",
     "output_type": "stream",
     "text": [
      "loading annotations into memory...\n",
      "Done (t=0.92s)\n",
      "creating index...\n",
      "index created!\n"
     ]
    }
   ],
   "source": [
    "ANN_PATH = 'coco/cocoapi/annotations/instances_val2017.json'\n",
    "VAL_PATH = 'coco/cocoapi/images/val2017/'\n",
    "test_transform = transforms.Compose([\n",
    "    transforms.Resize((256, 256)),\n",
    "    transforms.CenterCrop(224),\n",
    "    transforms.ToTensor(),\n",
    "#     transforms.Normalize(mean=[0.485, 0.456, 0.406],\n",
    "#                                      std=[0.229, 0.224, 0.225])\n",
    "])\n",
    "def merge_coco(l):\n",
    "    return torch.stack([x[0] for x in l])\n",
    "c_dataset = coco.CocoDetection(root=BASE+VAL_PATH, annFile=BASE+ANN_PATH, transform=test_transform, )\n",
    "eval_loader = torch.utils.data.DataLoader(c_dataset, batch_size=1, shuffle=True, collate_fn=merge_coco)"
   ]
  },
  {
   "cell_type": "code",
   "execution_count": 27,
   "metadata": {},
   "outputs": [],
   "source": [
    "def compute_mem_size(t):\n",
    "    t_size = t.size()\n",
    "    n_nums = 1\n",
    "    for n in t_size:\n",
    "        n_nums *= n\n",
    "    bit_size_map = {torch.float32 : 32, torch.float16 : 16, torch.float64 : 64, torch.uint8 : 8, torch.int8 : 8, torch.int16 : 16, torch.int32 : 32, torch.int64 : 64}\n",
    "    return (n_nums * bit_size_map[t.dtype]) / 8\n",
    "\n",
    "def densenet_measure_forward(self, x):\n",
    "    print('Image size:', compute_mem_size(x))\n",
    "    features = self.features(x)\n",
    "    \n",
    "    for module in self.features:\n",
    "        t1 = datetime.datetime.now()\n",
    "        x = module(x)\n",
    "        t2 = datetime.datetime.now()\n",
    "        dt1 = t2 - t1\n",
    "        canon_name = type(module).__name__\n",
    "        print('After ' + canon_name + '(' + str(dt1.total_seconds()) + '):  ' + str(compute_mem_size(x)))\n",
    "        \n",
    "    \n",
    "    t2 = datetime.datetime.now()\n",
    "    out = F.relu(features, inplace=True)\n",
    "    t3 = datetime.datetime.now()\n",
    "    dt2 = t3 - t2\n",
    "    print('After relu (' + str(dt1.total_seconds()) + '):', compute_mem_size(out))\n",
    "    \n",
    "    t4 = datetime.datetime.now()\n",
    "    out = F.avg_pool2d(out, kernel_size=7, stride=1).view(features.size(0), -1)\n",
    "    t5 = datetime.datetime.now()\n",
    "    dt3 = t5 - t4\n",
    "    print('After avg_pool2d (' + str(dt2.total_seconds()) + '):', compute_mem_size(out))\n",
    "    \n",
    "    #for module in self.classifier:\n",
    "    t6 = datetime.datetime.now()\n",
    "    #x = module(x)\n",
    "    x = self.classifier(out)\n",
    "    t7 = datetime.datetime.now()\n",
    "    dt4 = t7 - t6\n",
    "    canon_name = type(self.classifier).__name__\n",
    "    print('After ' + canon_name + '(' + str(dt1.total_seconds()) + '):  ' + str(compute_mem_size(x)))\n",
    "    \n",
    "    return out"
   ]
  },
  {
   "cell_type": "code",
   "execution_count": 28,
   "metadata": {},
   "outputs": [
    {
     "name": "stdout",
     "output_type": "stream",
     "text": [
      "Image size: 602112.0\n",
      "After Conv2d(0.009525):  3211264.0\n",
      "After BatchNorm2d(0.002462):  3211264.0\n",
      "After ReLU(0.000591):  3211264.0\n",
      "After MaxPool2d(0.008842):  802816.0\n",
      "After _DenseBlock(0.120857):  3211264.0\n",
      "After _Transition(0.011219):  401408.0\n",
      "After _DenseBlock(0.091882):  1605632.0\n",
      "After _Transition(0.009451):  200704.0\n",
      "After _DenseBlock(0.131066):  802816.0\n",
      "After _Transition(0.007704):  100352.0\n",
      "After _DenseBlock(0.054442):  200704.0\n",
      "After BatchNorm2d(0.002762):  200704.0\n",
      "After relu (0.002762): 200704.0\n",
      "After avg_pool2d (0.0003): 4096.0\n",
      "After Linear(0.002762):  4000.0\n"
     ]
    }
   ],
   "source": [
    "m.eval()\n",
    "for batch in eval_loader:\n",
    "    densenet_measure_forward(m, batch)\n",
    "    break"
   ]
  },
  {
   "cell_type": "code",
   "execution_count": 11,
   "metadata": {},
   "outputs": [],
   "source": [
    "\n",
    "#transforms.ToPILImage()(sample_input)"
   ]
  },
  {
   "cell_type": "code",
   "execution_count": null,
   "metadata": {},
   "outputs": [],
   "source": []
  }
 ],
 "metadata": {
  "kernelspec": {
   "display_name": "Python [conda env:torch]",
   "language": "python",
   "name": "conda-env-torch-py"
  },
  "language_info": {
   "codemirror_mode": {
    "name": "ipython",
    "version": 3
   },
   "file_extension": ".py",
   "mimetype": "text/x-python",
   "name": "python",
   "nbconvert_exporter": "python",
   "pygments_lexer": "ipython3",
   "version": "3.5.6"
  }
 },
 "nbformat": 4,
 "nbformat_minor": 2
}
