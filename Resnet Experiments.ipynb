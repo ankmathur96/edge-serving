{
 "cells": [
  {
   "cell_type": "code",
   "execution_count": 1,
   "metadata": {},
   "outputs": [],
   "source": [
    "import torch\n",
    "import datetime\n",
    "from torch.autograd import Variable\n",
    "from torchvision.models import resnet\n",
    "from torchvision.datasets import coco\n",
    "from torchvision import transforms"
   ]
  },
  {
   "cell_type": "code",
   "execution_count": 4,
   "metadata": {},
   "outputs": [],
   "source": [
    "BASE = '/Users/ajitpunj/Documents/School/cs 349d/project/'\n",
    "m = resnet.resnet18(pretrained=True)"
   ]
  },
  {
   "cell_type": "code",
   "execution_count": 5,
   "metadata": {},
   "outputs": [
    {
     "name": "stdout",
     "output_type": "stream",
     "text": [
      "loading annotations into memory...\n",
      "Done (t=0.74s)\n",
      "creating index...\n",
      "index created!\n"
     ]
    }
   ],
   "source": [
    "ANN_PATH = 'coco/cocoapi/annotations/instances_val2017.json'\n",
    "VAL_PATH = 'coco/cocoapi/images/val2017/'\n",
    "test_transform = transforms.Compose([\n",
    "    transforms.Resize((256, 256)),\n",
    "    transforms.CenterCrop(224),\n",
    "    transforms.ToTensor(),\n",
    "#     transforms.Normalize(mean=[0.485, 0.456, 0.406],\n",
    "#                                      std=[0.229, 0.224, 0.225])\n",
    "])\n",
    "def merge_coco(l):\n",
    "    return torch.stack([x[0] for x in l])\n",
    "c_dataset = coco.CocoDetection(root=BASE+VAL_PATH, annFile=BASE+ANN_PATH, transform=test_transform, )\n",
    "eval_loader = torch.utils.data.DataLoader(c_dataset, batch_size=1, shuffle=True, collate_fn=merge_coco)"
   ]
  },
  {
   "cell_type": "code",
   "execution_count": 6,
   "metadata": {},
   "outputs": [],
   "source": [
    "def compute_mem_size(t):\n",
    "    t_size = t.size()\n",
    "    n_nums = 1\n",
    "    for n in t_size:\n",
    "        n_nums *= n\n",
    "    bit_size_map = {torch.float32 : 32, torch.float16 : 16, torch.float64 : 64, torch.uint8 : 8, torch.int8 : 8, torch.int16 : 16, torch.int32 : 32, torch.int64 : 64}\n",
    "    return (n_nums * bit_size_map[t.dtype]) / 8\n",
    "\n",
    "def resnet_measure_forward(model, x):\n",
    "    print('Image size:', compute_mem_size(x))\n",
    "    t0 = datetime.datetime.now()\n",
    "    x = model.conv1(x)\n",
    "    x = model.bn1(x)\n",
    "    x = model.relu(x)\n",
    "    t1 = datetime.datetime.now()\n",
    "    dt1 = t1 - t0\n",
    "    print('After conv1 (' + str(dt1.total_seconds()) + '):', compute_mem_size(x))\n",
    "    t2 = datetime.datetime.now()\n",
    "    x = model.maxpool(x)\n",
    "    t3 = datetime.datetime.now()\n",
    "    dt2 = t3 - t2\n",
    "    print('After maxpool (' + str(dt2.total_seconds()) + '):', compute_mem_size(x))\n",
    "    t4 = datetime.datetime.now()\n",
    "    x = model.layer1(x)\n",
    "    t5 = datetime.datetime.now()\n",
    "    dt3 = t5 - t4\n",
    "    print('After l1 (' + str(dt3.total_seconds()) + '):', compute_mem_size(x))\n",
    "    t6 = datetime.datetime.now()\n",
    "    x = model.layer2(x)\n",
    "    t7 = datetime.datetime.now()\n",
    "    dt4 = t7 - t6\n",
    "    print('After l2 (' + str(dt4.total_seconds()) + '):', compute_mem_size(x))\n",
    "    t8 = datetime.datetime.now()\n",
    "    x = model.layer3(x)\n",
    "    t9 = datetime.datetime.now()\n",
    "    dt5 = t9 - t8\n",
    "    print('After l3 (' + str(dt5.total_seconds()) + '):', compute_mem_size(x))\n",
    "    t10 = datetime.datetime.now()\n",
    "    x = model.layer4(x)\n",
    "    t11 = datetime.datetime.now()\n",
    "    dt6 = t11 - t10\n",
    "    print('After l4 (' + str(dt6.total_seconds()) + '):', compute_mem_size(x))\n",
    "    t12 = datetime.datetime.now()\n",
    "    x = model.avgpool(x)\n",
    "    t13 = datetime.datetime.now()\n",
    "    dt7 = t13 - t12\n",
    "    print('After avgpool (' + str(dt7.total_seconds()) + '):', compute_mem_size(x))\n",
    "    x = x.view(x.size(0), -1)\n",
    "    t14 = datetime.datetime.now()\n",
    "    x = model.fc(x)\n",
    "    t15 = datetime.datetime.now()\n",
    "    dt8 = t15 - t14\n",
    "    print('After fc (' + str(dt8.total_seconds()) + '):', compute_mem_size(x))\n",
    "    return x"
   ]
  },
  {
   "cell_type": "code",
   "execution_count": 7,
   "metadata": {},
   "outputs": [
    {
     "name": "stdout",
     "output_type": "stream",
     "text": [
      "Image size: 602112.0\n",
      "After conv1 (0.041257): 3211264.0\n",
      "After maxpool (0.010452): 802816.0\n",
      "After l1 (0.03902): 802816.0\n",
      "After l2 (0.026047): 401408.0\n",
      "After l3 (0.019898): 200704.0\n",
      "After l4 (0.023072): 100352.0\n",
      "After avgpool (0.00138): 2048.0\n",
      "After fc (0.003293): 4000.0\n"
     ]
    }
   ],
   "source": [
    "m.eval()\n",
    "for batch in eval_loader:\n",
    "    resnet_measure_forward(m, batch)\n",
    "    break"
   ]
  },
  {
   "cell_type": "code",
   "execution_count": null,
   "metadata": {},
   "outputs": [],
   "source": [
    "transforms.ToPILImage()(sample_input)"
   ]
  },
  {
   "cell_type": "code",
   "execution_count": null,
   "metadata": {},
   "outputs": [],
   "source": []
  }
 ],
 "metadata": {
  "kernelspec": {
   "display_name": "Python [conda env:torch]",
   "language": "python",
   "name": "conda-env-torch-py"
  },
  "language_info": {
   "codemirror_mode": {
    "name": "ipython",
    "version": 3
   },
   "file_extension": ".py",
   "mimetype": "text/x-python",
   "name": "python",
   "nbconvert_exporter": "python",
   "pygments_lexer": "ipython3",
   "version": "3.5.6"
  }
 },
 "nbformat": 4,
 "nbformat_minor": 2
}
